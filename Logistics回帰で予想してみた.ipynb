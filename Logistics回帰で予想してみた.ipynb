{
  "nbformat": 4,
  "nbformat_minor": 0,
  "metadata": {
    "colab": {
      "provenance": [],
      "authorship_tag": "ABX9TyPuh+pLFp0Xm2Cac7XQ4LQg",
      "include_colab_link": true
    },
    "kernelspec": {
      "name": "python3",
      "display_name": "Python 3"
    },
    "language_info": {
      "name": "python"
    }
  },
  "cells": [
    {
      "cell_type": "markdown",
      "metadata": {
        "id": "view-in-github",
        "colab_type": "text"
      },
      "source": [
        "<a href=\"https://colab.research.google.com/github/SEIGO55/intro_git/blob/main/Logistics%E5%9B%9E%E5%B8%B0%E3%81%A7%E4%BA%88%E6%83%B3%E3%81%97%E3%81%A6%E3%81%BF%E3%81%9F.ipynb\" target=\"_parent\"><img src=\"https://colab.research.google.com/assets/colab-badge.svg\" alt=\"Open In Colab\"/></a>"
      ]
    },
    {
      "cell_type": "code",
      "execution_count": null,
      "metadata": {
        "colab": {
          "base_uri": "https://localhost:8080/"
        },
        "id": "DDCCkel54WR5",
        "outputId": "3bc93c56-c4f0-45b0-dc1b-df6e9b96d20a"
      },
      "outputs": [
        {
          "output_type": "stream",
          "name": "stdout",
          "text": [
            "Mounted at /content/drive\n"
          ]
        },
        {
          "output_type": "stream",
          "name": "stderr",
          "text": [
            "<ipython-input-1-041488db2443>:38: SettingWithCopyWarning: \n",
            "A value is trying to be set on a copy of a slice from a DataFrame.\n",
            "Try using .loc[row_indexer,col_indexer] = value instead\n",
            "\n",
            "See the caveats in the documentation: https://pandas.pydata.org/pandas-docs/stable/user_guide/indexing.html#returning-a-view-versus-a-copy\n",
            "  df[['コース', '距離2']] = df['距離'].str.extract(r'([ダ芝]+)(\\d+m)')\n",
            "<ipython-input-1-041488db2443>:38: SettingWithCopyWarning: \n",
            "A value is trying to be set on a copy of a slice from a DataFrame.\n",
            "Try using .loc[row_indexer,col_indexer] = value instead\n",
            "\n",
            "See the caveats in the documentation: https://pandas.pydata.org/pandas-docs/stable/user_guide/indexing.html#returning-a-view-versus-a-copy\n",
            "  df[['コース', '距離2']] = df['距離'].str.extract(r'([ダ芝]+)(\\d+m)')\n",
            "<ipython-input-1-041488db2443>:39: SettingWithCopyWarning: \n",
            "A value is trying to be set on a copy of a slice from a DataFrame.\n",
            "Try using .loc[row_indexer,col_indexer] = value instead\n",
            "\n",
            "See the caveats in the documentation: https://pandas.pydata.org/pandas-docs/stable/user_guide/indexing.html#returning-a-view-versus-a-copy\n",
            "  df['コースタイプ'] = df['距離'].str.extract(r'\\((.*?)\\)')\n",
            "<ipython-input-1-041488db2443>:42: FutureWarning: The default value of regex will change from True to False in a future version. In addition, single character regular expressions will *not* be treated as literal strings when regex=True.\n",
            "  df['(増減)'] = df['(増減)'].str.replace('(', '').str.replace(')', '')\n",
            "<ipython-input-1-041488db2443>:42: SettingWithCopyWarning: \n",
            "A value is trying to be set on a copy of a slice from a DataFrame.\n",
            "Try using .loc[row_indexer,col_indexer] = value instead\n",
            "\n",
            "See the caveats in the documentation: https://pandas.pydata.org/pandas-docs/stable/user_guide/indexing.html#returning-a-view-versus-a-copy\n",
            "  df['(増減)'] = df['(増減)'].str.replace('(', '').str.replace(')', '')\n",
            "<ipython-input-1-041488db2443>:43: SettingWithCopyWarning: \n",
            "A value is trying to be set on a copy of a slice from a DataFrame.\n",
            "Try using .loc[row_indexer,col_indexer] = value instead\n",
            "\n",
            "See the caveats in the documentation: https://pandas.pydata.org/pandas-docs/stable/user_guide/indexing.html#returning-a-view-versus-a-copy\n",
            "  df['体重変化'] = df['(増減)'].replace('NaN', np.nan).fillna(0).astype(int)\n",
            "<ipython-input-1-041488db2443>:46: SettingWithCopyWarning: \n",
            "A value is trying to be set on a copy of a slice from a DataFrame.\n",
            "Try using .loc[row_indexer,col_indexer] = value instead\n",
            "\n",
            "See the caveats in the documentation: https://pandas.pydata.org/pandas-docs/stable/user_guide/indexing.html#returning-a-view-versus-a-copy\n",
            "  df['着順']=df['着順'].astype(int)\n"
          ]
        }
      ],
      "source": [
        "import pandas as pd\n",
        "import numpy as np\n",
        "from google.colab import drive\n",
        "\n",
        "# Google ドライブをマウント\n",
        "drive.mount('/content/drive')\n",
        "\n",
        "files = ['2020JRAresults.csv', '2021JRAresults.csv', '2022JRAresults.csv']\n",
        "\n",
        "# Google ドライブの特定のディレクトリのパスを指定\n",
        "base_path = '/content/drive/My Drive/ADS競馬部/'\n",
        "\n",
        "# 各ファイルを読み込み、一つのリストに格納\n",
        "dfs = [pd.read_csv(base_path + file) for file in files]\n",
        "\n",
        "# リスト内の全ての DataFrame を縦に連結\n",
        "result_df = pd.concat(dfs, ignore_index=True)\n",
        "\n",
        "grade = pd.read_csv(base_path + '重賞レースリスト.csv')\n",
        "\n",
        "# 'race_name' をキーにして結合し、result_df の行数を変更しないように 'left' 結合を選択\n",
        "merged_df = pd.merge(result_df, grade, on='race_name', how='left')\n",
        "\n",
        "# 'Grade' 列に対して、NaN 値を '-' に置き換え\n",
        "merged_df['Grade'].fillna('-', inplace=True)\n",
        "\n",
        "# '開催日' 列を datetime 型に変換\n",
        "merged_df['開催日'] = pd.to_datetime(merged_df['開催日'], format='%Y%m%d')\n",
        "\n",
        "# 開催年を新しい列として追加（'開催日' 列の year 属性を取得）\n",
        "merged_df['開催年'] = merged_df['開催日'].dt.year\n",
        "\n",
        "# '開催年' 列をデータフレームの最初の列に移動\n",
        "cols = ['開催年'] + [col for col in merged_df if col != '開催年']\n",
        "df = merged_df[cols]\n",
        "\n",
        "# '距離' 列から 'コース'、'距離'、'コースタイプ' の情報を正規表現で抽出\n",
        "df[['コース', '距離2']] = df['距離'].str.extract(r'([ダ芝]+)(\\d+m)')\n",
        "df['コースタイプ'] = df['距離'].str.extract(r'\\((.*?)\\)')\n",
        "\n",
        "# '(増減)'列の値を整形し、'NaN' 文字列を実際のNaNに変換し、NaNを0に置き換え、整数型に変換する\n",
        "df['(増減)'] = df['(増減)'].str.replace('(', '').str.replace(')', '')\n",
        "df['体重変化'] = df['(増減)'].replace('NaN', np.nan).fillna(0).astype(int)\n",
        "# '着順' 列の値が整数の場合、かつ1から20までの範囲にある場合は削除しない\n",
        "df = df[~df['着順'].apply(lambda x: isinstance(x, str) and (not x.isdigit() or int(x) < 1 or int(x) > 20))]\n",
        "df['着順']=df['着順'].astype(int)"
      ]
    },
    {
      "cell_type": "code",
      "source": [
        "new_col = ['着順', '枠', '馬番', '馬名', '斤量', '騎手',  '人気',\n",
        "       '単勝オッズ', '性', '齢',  '馬体重', '体重変化','race_name','コース','距離2','コースタイプ','天候','馬場状態']\n",
        "result=df[new_col]\n",
        "\n",
        "# 'rank' 列を作成し、条件に基づいて値を設定\n",
        "result['rank'] = result['着順'].apply(lambda x: x if str(x).isdigit() and int(x) in [1, 2, 3] else 4)\n"
      ],
      "metadata": {
        "colab": {
          "base_uri": "https://localhost:8080/"
        },
        "id": "GUdQv2-2O9nQ",
        "outputId": "6b1a472f-2339-41c1-8854-215a27376bb2"
      },
      "execution_count": null,
      "outputs": [
        {
          "output_type": "stream",
          "name": "stderr",
          "text": [
            "<ipython-input-2-33707d54e061>:6: SettingWithCopyWarning: \n",
            "A value is trying to be set on a copy of a slice from a DataFrame.\n",
            "Try using .loc[row_indexer,col_indexer] = value instead\n",
            "\n",
            "See the caveats in the documentation: https://pandas.pydata.org/pandas-docs/stable/user_guide/indexing.html#returning-a-view-versus-a-copy\n",
            "  result['rank'] = result['着順'].apply(lambda x: x if str(x).isdigit() and int(x) in [1, 2, 3] else 4)\n"
          ]
        }
      ]
    },
    {
      "cell_type": "code",
      "source": [
        "result.drop(['着順', '馬名'], axis=1, inplace=True)"
      ],
      "metadata": {
        "colab": {
          "base_uri": "https://localhost:8080/"
        },
        "id": "k82SKIRMPDpe",
        "outputId": "516a1415-4f27-4ee8-c139-762ebd266ea9"
      },
      "execution_count": null,
      "outputs": [
        {
          "output_type": "stream",
          "name": "stderr",
          "text": [
            "<ipython-input-3-7ed6834b0de3>:1: SettingWithCopyWarning: \n",
            "A value is trying to be set on a copy of a slice from a DataFrame\n",
            "\n",
            "See the caveats in the documentation: https://pandas.pydata.org/pandas-docs/stable/user_guide/indexing.html#returning-a-view-versus-a-copy\n",
            "  result.drop(['着順', '馬名'], axis=1, inplace=True)\n"
          ]
        }
      ]
    },
    {
      "cell_type": "code",
      "source": [
        "#ダミー変数化\n",
        "result_d = pd.get_dummies(result)"
      ],
      "metadata": {
        "id": "D0DPKGzPPIve"
      },
      "execution_count": null,
      "outputs": []
    },
    {
      "cell_type": "code",
      "source": [
        "from sklearn.linear_model import LogisticRegression\n",
        "from sklearn.model_selection import train_test_split\n",
        "from sklearn.preprocessing import StandardScaler\n",
        "\n",
        "X = result_d.drop(['rank'], axis=1)\n",
        "y = result_d['rank']\n",
        "\n",
        "X_train, X_test, y_train, y_test = train_test_split(X, y, stratify=y, test_size=0.3, random_state=0)"
      ],
      "metadata": {
        "id": "axKabrXNPnj2"
      },
      "execution_count": null,
      "outputs": []
    },
    {
      "cell_type": "code",
      "source": [
        "#アンダーサンプリング  それぞれのクラスの数を同数程度にするため\n",
        "from imblearn.under_sampling import RandomUnderSampler\n",
        "\n",
        "rank_1 = y_train.value_counts()[1]\n",
        "rank_2 = y_train.value_counts()[2]\n",
        "rank_3 = y_train.value_counts()[3]\n",
        "rus = RandomUnderSampler(sampling_strategy={1: rank_1, 2: rank_2, 3: rank_3, 4: rank_1}, random_state=0)\n",
        "\n",
        "\n",
        "X_train_rus, y_train_rus = rus.fit_resample(X_train, y_train)"
      ],
      "metadata": {
        "id": "mK04sUaaPQu-"
      },
      "execution_count": null,
      "outputs": []
    },
    {
      "cell_type": "code",
      "source": [
        "#クラスごとに大体同数になっていることの確認\n",
        "pd.Series(y_train_rus).value_counts()"
      ],
      "metadata": {
        "colab": {
          "base_uri": "https://localhost:8080/"
        },
        "id": "E9VAT_cRPrXe",
        "outputId": "84201a72-c028-45b0-dee5-b7652383af2d"
      },
      "execution_count": null,
      "outputs": [
        {
          "output_type": "execute_result",
          "data": {
            "text/plain": [
              "1    7273\n",
              "4    7273\n",
              "3    7262\n",
              "2    7255\n",
              "Name: rank, dtype: int64"
            ]
          },
          "metadata": {},
          "execution_count": 8
        }
      ]
    },
    {
      "cell_type": "code",
      "source": [
        "#Model作ってスコアの計算\n",
        "model = LogisticRegression()\n",
        "model.fit(X_train_rus, y_train_rus)\n",
        "\n",
        "print(model.score(X_train, y_train), model.score(X_test, y_test))"
      ],
      "metadata": {
        "colab": {
          "base_uri": "https://localhost:8080/"
        },
        "id": "y1oQ21BEPz2u",
        "outputId": "7d95c501-c195-405c-d9bf-dbef6721e30c"
      },
      "execution_count": null,
      "outputs": [
        {
          "output_type": "stream",
          "name": "stderr",
          "text": [
            "/usr/local/lib/python3.10/dist-packages/sklearn/linear_model/_logistic.py:458: ConvergenceWarning: lbfgs failed to converge (status=1):\n",
            "STOP: TOTAL NO. of ITERATIONS REACHED LIMIT.\n",
            "\n",
            "Increase the number of iterations (max_iter) or scale the data as shown in:\n",
            "    https://scikit-learn.org/stable/modules/preprocessing.html\n",
            "Please also refer to the documentation for alternative solver options:\n",
            "    https://scikit-learn.org/stable/modules/linear_model.html#logistic-regression\n",
            "  n_iter_i = _check_optimize_result(\n"
          ]
        },
        {
          "output_type": "stream",
          "name": "stdout",
          "text": [
            "0.55957966224294 0.5608063759962494\n"
          ]
        }
      ]
    }
  ]
}